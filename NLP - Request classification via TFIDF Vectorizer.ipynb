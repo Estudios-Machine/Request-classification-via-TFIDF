{
 "cells": [
  {
   "cell_type": "code",
   "execution_count": 1,
   "metadata": {},
   "outputs": [
    {
     "name": "stdout",
     "output_type": "stream",
     "text": [
      "[nltk_data] Downloading package wordnet to\n",
      "[nltk_data]     C:\\Users\\dnuho\\AppData\\Roaming\\nltk_data...\n",
      "[nltk_data]   Package wordnet is already up-to-date!\n",
      "[nltk_data] Downloading package stopwords to\n",
      "[nltk_data]     C:\\Users\\dnuho\\AppData\\Roaming\\nltk_data...\n",
      "[nltk_data]   Package stopwords is already up-to-date!\n"
     ]
    }
   ],
   "source": [
    "import pandas as pd\n",
    "import numpy as np\n",
    "from sklearn.model_selection import train_test_split\n",
    "from sklearn.feature_extraction.text import CountVectorizer, TfidfVectorizer\n",
    "from sklearn.naive_bayes import MultinomialNB\n",
    "from sklearn.metrics import accuracy_score, precision_score, recall_score, f1_score\n",
    "from sklearn.ensemble import BaggingClassifier, RandomForestClassifier, AdaBoostClassifier\n",
    "from nltk import word_tokenize, WordNetLemmatizer\n",
    "from sklearn.feature_extraction.text import CountVectorizer, TfidfVectorizer\n",
    "import tests as t\n",
    "import re\n",
    "import nltk\n",
    "from sklearn.preprocessing import OneHotEncoder\n",
    "from nltk.stem.snowball import SnowballStemmer\n",
    "from nltk.stem.porter import PorterStemmer\n",
    "from nltk.corpus import stopwords\n",
    "nltk.download('wordnet')\n",
    "nltk.download('stopwords');"
   ]
  },
  {
   "cell_type": "markdown",
   "metadata": {},
   "source": [
    "### Import Data"
   ]
  },
  {
   "cell_type": "code",
   "execution_count": 2,
   "metadata": {},
   "outputs": [],
   "source": [
    "data = pd.read_csv('requests.csv')"
   ]
  },
  {
   "cell_type": "code",
   "execution_count": 3,
   "metadata": {},
   "outputs": [
    {
     "data": {
      "text/html": [
       "<div>\n",
       "<style scoped>\n",
       "    .dataframe tbody tr th:only-of-type {\n",
       "        vertical-align: middle;\n",
       "    }\n",
       "\n",
       "    .dataframe tbody tr th {\n",
       "        vertical-align: top;\n",
       "    }\n",
       "\n",
       "    .dataframe thead th {\n",
       "        text-align: right;\n",
       "    }\n",
       "</style>\n",
       "<table border=\"1\" class=\"dataframe\">\n",
       "  <thead>\n",
       "    <tr style=\"text-align: right;\">\n",
       "      <th></th>\n",
       "      <th>Request Description</th>\n",
       "      <th>Category</th>\n",
       "    </tr>\n",
       "  </thead>\n",
       "  <tbody>\n",
       "    <tr>\n",
       "      <th>0</th>\n",
       "      <td>I have noticed I did not get the necessary pho...</td>\n",
       "      <td>Remuneration</td>\n",
       "    </tr>\n",
       "    <tr>\n",
       "      <th>1</th>\n",
       "      <td>I would like to enter a leave for last week bu...</td>\n",
       "      <td>Leave</td>\n",
       "    </tr>\n",
       "    <tr>\n",
       "      <th>2</th>\n",
       "      <td>I need to get my payslip.</td>\n",
       "      <td>Payroll</td>\n",
       "    </tr>\n",
       "    <tr>\n",
       "      <th>3</th>\n",
       "      <td>I have questions regarding my performance.</td>\n",
       "      <td>Performance and Talent</td>\n",
       "    </tr>\n",
       "    <tr>\n",
       "      <th>4</th>\n",
       "      <td>I have decided to leave the company, I am tryi...</td>\n",
       "      <td>Leaving the company</td>\n",
       "    </tr>\n",
       "    <tr>\n",
       "      <th>5</th>\n",
       "      <td>I was expecting a higher annual salary increas...</td>\n",
       "      <td>Annual Salary Increase</td>\n",
       "    </tr>\n",
       "    <tr>\n",
       "      <th>6</th>\n",
       "      <td>I am facing technical issues with Success Fact...</td>\n",
       "      <td>Technical Issues</td>\n",
       "    </tr>\n",
       "    <tr>\n",
       "      <th>7</th>\n",
       "      <td>MY TECHNICAL PROBLEM IS STILL NOT RESOLVED</td>\n",
       "      <td>Technical Issues</td>\n",
       "    </tr>\n",
       "    <tr>\n",
       "      <th>8</th>\n",
       "      <td>I would like to switch to monthly remuneration.</td>\n",
       "      <td>Remuneration</td>\n",
       "    </tr>\n",
       "    <tr>\n",
       "      <th>9</th>\n",
       "      <td>I ran out of personal leave, but I am sick, ho...</td>\n",
       "      <td>Leave</td>\n",
       "    </tr>\n",
       "    <tr>\n",
       "      <th>10</th>\n",
       "      <td>My performance has been rated unsatisfactory, ...</td>\n",
       "      <td>Performance and Talent</td>\n",
       "    </tr>\n",
       "    <tr>\n",
       "      <th>11</th>\n",
       "      <td>I would like to take half pay leave. Can you h...</td>\n",
       "      <td>Leave</td>\n",
       "    </tr>\n",
       "    <tr>\n",
       "      <th>12</th>\n",
       "      <td>A year end salary increase did not reflect as ...</td>\n",
       "      <td>Annual Salary Increase</td>\n",
       "    </tr>\n",
       "    <tr>\n",
       "      <th>13</th>\n",
       "      <td>There is a technical issue with the wowpeople ...</td>\n",
       "      <td>Technical Issues</td>\n",
       "    </tr>\n",
       "  </tbody>\n",
       "</table>\n",
       "</div>"
      ],
      "text/plain": [
       "                                  Request Description                Category\n",
       "0   I have noticed I did not get the necessary pho...            Remuneration\n",
       "1   I would like to enter a leave for last week bu...                   Leave\n",
       "2                           I need to get my payslip.                 Payroll\n",
       "3          I have questions regarding my performance.  Performance and Talent\n",
       "4   I have decided to leave the company, I am tryi...     Leaving the company\n",
       "5   I was expecting a higher annual salary increas...  Annual Salary Increase\n",
       "6   I am facing technical issues with Success Fact...        Technical Issues\n",
       "7          MY TECHNICAL PROBLEM IS STILL NOT RESOLVED        Technical Issues\n",
       "8     I would like to switch to monthly remuneration.            Remuneration\n",
       "9   I ran out of personal leave, but I am sick, ho...                   Leave\n",
       "10  My performance has been rated unsatisfactory, ...  Performance and Talent\n",
       "11  I would like to take half pay leave. Can you h...                   Leave\n",
       "12  A year end salary increase did not reflect as ...  Annual Salary Increase\n",
       "13  There is a technical issue with the wowpeople ...        Technical Issues"
      ]
     },
     "execution_count": 3,
     "metadata": {},
     "output_type": "execute_result"
    }
   ],
   "source": [
    "data"
   ]
  },
  {
   "cell_type": "markdown",
   "metadata": {},
   "source": [
    "### Data Cleanup"
   ]
  },
  {
   "cell_type": "markdown",
   "metadata": {},
   "source": [
    "#### Stemming, Lemmatization and Feature Extraction with CountVectorizer and TFIDF Vectorizer\n",
    "#### Using custom preprocessor with lower_case, remove punctuation\n",
    "#### Using custom tokenizer with Word_Tokenize, PorterStemmer, WordNetLemmatizer"
   ]
  },
  {
   "cell_type": "code",
   "execution_count": 4,
   "metadata": {},
   "outputs": [
    {
     "data": {
      "text/plain": [
       "{'notic': 20,\n",
       " 'necessari': 18,\n",
       " 'phone': 27,\n",
       " 'reimburs': 35,\n",
       " 'like': 15,\n",
       " 'enter': 5,\n",
       " 'leav': 14,\n",
       " 'week': 47,\n",
       " 'need': 19,\n",
       " 'payslip': 23,\n",
       " 'question': 30,\n",
       " 'regard': 34,\n",
       " 'perform': 24,\n",
       " 'decid': 3,\n",
       " 'compani': 1,\n",
       " 'tri': 44,\n",
       " 'long': 16,\n",
       " 'period': 25,\n",
       " 'expect': 6,\n",
       " 'higher': 11,\n",
       " 'annual': 0,\n",
       " 'salari': 39,\n",
       " 'increas': 12,\n",
       " 'concern': 2,\n",
       " 'reflect': 33,\n",
       " 'face': 7,\n",
       " 'technic': 43,\n",
       " 'issu': 13,\n",
       " 'success': 41,\n",
       " 'factor': 8,\n",
       " 'problem': 28,\n",
       " 'resolv': 38,\n",
       " 'switch': 42,\n",
       " 'monthli': 17,\n",
       " 'remuner': 36,\n",
       " 'ran': 31,\n",
       " 'person': 26,\n",
       " 'sick': 40,\n",
       " 'proceed': 29,\n",
       " 'rate': 32,\n",
       " 'unsatisfactori': 45,\n",
       " 'way': 46,\n",
       " 'object': 21,\n",
       " 'half': 9,\n",
       " 'pay': 22,\n",
       " 'help': 10,\n",
       " 'year': 49,\n",
       " 'end': 4,\n",
       " 'wowpeopl': 48,\n",
       " 'request': 37}"
      ]
     },
     "execution_count": 4,
     "metadata": {},
     "output_type": "execute_result"
    }
   ],
   "source": [
    "## Define Preprocessor converting into lower case, removing punctuation\n",
    "def preprocessor(text):\n",
    "    text = text.lower()\n",
    "    text = re.sub(r\"[^a-zA-Z0-9]\",\" \", text)\n",
    "    text = re.sub(r\"'\",\"\", text)\n",
    "    return text\n",
    "\n",
    "stemmer = PorterStemmer()\n",
    "lemmatizer = WordNetLemmatizer()\n",
    "\n",
    "## Define tokenizer, splitting text into tokens, while also removing stopwords, applying stemming and lemmatization as well\n",
    "def tokenizer(text):\n",
    "    tokens = word_tokenize(text)\n",
    "    tokens = [token for token in tokens if token not in stopwords.words('english')]\n",
    "    tokens = [stemmer.stem(lemmatizer.lemmatize(token)) for token in tokens]\n",
    "    return tokens\n",
    "\n",
    "CV = CountVectorizer(stop_words='english', max_features=1000, tokenizer=tokenizer, preprocessor=preprocessor)\n",
    "TFIDF = TfidfVectorizer(stop_words='english', tokenizer = tokenizer, preprocessor=preprocessor)\n",
    "training_data = CV.fit_transform(data['Request Description'])\n",
    "training_data_tfidf = TFIDF.fit_transform(data['Request Description'])\n",
    "training_output = data['Category']\n",
    "CV.vocabulary_"
   ]
  },
  {
   "cell_type": "code",
   "execution_count": 5,
   "metadata": {},
   "outputs": [],
   "source": [
    "# Initiate Classifiers for both CV and TFIDF methods\n",
    "bag_mod = BaggingClassifier(n_estimators=200)\n",
    "rf_mod = RandomForestClassifier(n_estimators=200)\n",
    "bag_tfidf_mod = BaggingClassifier(n_estimators=200)\n",
    "rf_tfidf_mod = RandomForestClassifier(n_estimators=200)"
   ]
  },
  {
   "cell_type": "markdown",
   "metadata": {},
   "source": [
    "### Model Fitting to RandomForecastClassifier and Baggings Classifier"
   ]
  },
  {
   "cell_type": "code",
   "execution_count": 6,
   "metadata": {},
   "outputs": [],
   "source": [
    "# Fit preprocessed and featurized data to random forest and baggings classifiers\n",
    "rf_mod.fit(training_data, training_output)\n",
    "bag_mod.fit(training_data, training_output)\n",
    "rf_tfidf_mod.fit(training_data_tfidf, training_output)\n",
    "bag_tfidf_mod.fit(training_data_tfidf, training_output);"
   ]
  },
  {
   "cell_type": "code",
   "execution_count": 7,
   "metadata": {},
   "outputs": [],
   "source": [
    "test_data = ['Can you please let me know where my payslip is']\n",
    "test_data2 = ['Facing technical problems regarding my salary']\n",
    "test_data3 = ['I do not have enough leave days left']\n",
    "test_data4 = ['I need help understanding my kpis are linked to how I perform']"
   ]
  },
  {
   "cell_type": "markdown",
   "metadata": {},
   "source": [
    "#### Predict using test phrases"
   ]
  },
  {
   "cell_type": "code",
   "execution_count": 8,
   "metadata": {},
   "outputs": [
    {
     "name": "stdout",
     "output_type": "stream",
     "text": [
      "['Payroll']\n",
      "['Payroll']\n"
     ]
    }
   ],
   "source": [
    "print(rf_mod.predict(CV.transform(test_data)))\n",
    "print(rf_tfidf_mod.predict(TFIDF.transform(test_data)))"
   ]
  },
  {
   "cell_type": "code",
   "execution_count": 9,
   "metadata": {},
   "outputs": [
    {
     "name": "stdout",
     "output_type": "stream",
     "text": [
      "['Technical Issues']\n",
      "['Technical Issues']\n"
     ]
    }
   ],
   "source": [
    "print(rf_mod.predict(CV.transform(test_data2)))\n",
    "print(rf_tfidf_mod.predict(TFIDF.transform(test_data2)))"
   ]
  },
  {
   "cell_type": "code",
   "execution_count": 10,
   "metadata": {},
   "outputs": [
    {
     "name": "stdout",
     "output_type": "stream",
     "text": [
      "['Leave']\n",
      "['Leave']\n"
     ]
    }
   ],
   "source": [
    "print(rf_mod.predict(CV.transform(test_data3)))\n",
    "print(rf_tfidf_mod.predict(TFIDF.transform(test_data3)))"
   ]
  },
  {
   "cell_type": "code",
   "execution_count": 11,
   "metadata": {},
   "outputs": [
    {
     "name": "stdout",
     "output_type": "stream",
     "text": [
      "['Performance and Talent']\n",
      "['Performance and Talent']\n"
     ]
    }
   ],
   "source": [
    "print(rf_mod.predict(CV.transform(test_data4)))\n",
    "print(rf_tfidf_mod.predict(TFIDF.transform(test_data4)))"
   ]
  }
 ],
 "metadata": {
  "kernelspec": {
   "display_name": "Python 3",
   "language": "python",
   "name": "python3"
  },
  "language_info": {
   "codemirror_mode": {
    "name": "ipython",
    "version": 3
   },
   "file_extension": ".py",
   "mimetype": "text/x-python",
   "name": "python",
   "nbconvert_exporter": "python",
   "pygments_lexer": "ipython3",
   "version": "3.6.5"
  }
 },
 "nbformat": 4,
 "nbformat_minor": 2
}
